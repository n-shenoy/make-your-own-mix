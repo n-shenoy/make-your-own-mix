{
  "nbformat": 4,
  "nbformat_minor": 0,
  "metadata": {
    "colab": {
      "provenance": [],
      "authorship_tag": "ABX9TyOtByOOwLYOkvf8v7mZ81R3",
      "include_colab_link": true
    },
    "kernelspec": {
      "name": "python3",
      "display_name": "Python 3"
    },
    "language_info": {
      "name": "python"
    }
  },
  "cells": [
    {
      "cell_type": "markdown",
      "metadata": {
        "id": "view-in-github",
        "colab_type": "text"
      },
      "source": [
        "<a href=\"https://colab.research.google.com/github/n-shenoy/make-your-own-mix/blob/main/Youtube_music_API.ipynb\" target=\"_parent\"><img src=\"https://colab.research.google.com/assets/colab-badge.svg\" alt=\"Open In Colab\"/></a>"
      ]
    },
    {
      "cell_type": "code",
      "execution_count": null,
      "metadata": {
        "colab": {
          "base_uri": "https://localhost:8080/"
        },
        "id": "uI7ZwSA0Ks9_",
        "outputId": "0c901da7-c623-4d13-a9a4-e4ff5b62ccc3"
      },
      "outputs": [
        {
          "output_type": "stream",
          "name": "stdout",
          "text": [
            "Looking in indexes: https://pypi.org/simple, https://us-python.pkg.dev/colab-wheels/public/simple/\n",
            "Requirement already satisfied: ytmusicapi in /usr/local/lib/python3.8/dist-packages (0.24.1)\n",
            "Requirement already satisfied: requests>=2.22 in /usr/local/lib/python3.8/dist-packages (from ytmusicapi) (2.23.0)\n",
            "Requirement already satisfied: certifi>=2017.4.17 in /usr/local/lib/python3.8/dist-packages (from requests>=2.22->ytmusicapi) (2022.12.7)\n",
            "Requirement already satisfied: urllib3!=1.25.0,!=1.25.1,<1.26,>=1.21.1 in /usr/local/lib/python3.8/dist-packages (from requests>=2.22->ytmusicapi) (1.24.3)\n",
            "Requirement already satisfied: idna<3,>=2.5 in /usr/local/lib/python3.8/dist-packages (from requests>=2.22->ytmusicapi) (2.10)\n",
            "Requirement already satisfied: chardet<4,>=3.0.2 in /usr/local/lib/python3.8/dist-packages (from requests>=2.22->ytmusicapi) (3.0.4)\n"
          ]
        }
      ],
      "source": [
        "pip install ytmusicapi"
      ]
    },
    {
      "cell_type": "code",
      "source": [
        "from ytmusicapi import YTMusic"
      ],
      "metadata": {
        "id": "qXht2GFlLQPh"
      },
      "execution_count": null,
      "outputs": []
    },
    {
      "cell_type": "code",
      "source": [
        "accept = 'accept: */*'\n",
        "accept_encoding = 'accept-encoding: gzip, deflate, br'\n",
        "accept_language = 'accept-language: en-US,en;q=0.9,ko-KR;q=0.8,ko;q=0.7,es-ES;q=0.6,es;q=0.5,ru-RU;q=0.4,ru;q=0.3,el-GR;q=0.2,el;q=0.1,zh-CN;q=0.1,zh;q=0.1,ja;q=0.1'\n",
        "authorization = 'authorization: SAPISIDHASH 1671538389_b2fe29943a45e830c0861a296305908ee9e7f2cf'\n",
        "content_length = 'content-length: 2032'\n",
        "content_type = 'content-type: application/json'\n",
        "cookie = 'cookie: VISITOR_INFO1_LIVE=KpjqE0huTfg; YT_CL={\"loctok\":\"APLXd64W07NCcTwGbVPMRfKYoIF3i5F_4QZYwF5hegVneMCCfMpdfGuUI_VbW7bH0gUnjkmO_Rif3BwTAq-uvC79329Lig\"}; _ga=GA1.2.1488817288.1663784678; LOGIN_INFO=AFmmF2swRQIgXN_PYJ8Q0tEGxoFg3z2BZWIR5vVEnRJ8xXyaudo4QcsCIQDechWYiL9l3bBaEeUbAiUKk_iJiVWPIiMvud5fFAqR-w:QUQ3MjNmd25HVW1qdm9SdE0yQjZYWnRNeWxPa0NVRXVTYW91MTJlRlllNUNKWkotYm43TUZDdnBBb2JheTl6bExjUnB3Q19PMkd5QmJtVWlDX19ZekhmbjlyN0ZZV3hYbWtYWm1ESU5HMC1YS3RDblNUdkRiMVZMNUdhY0thQWg1RTlLOVA1V1llVmtocUhneGthdWhPbHJwNVdiWTE5cExB; SID=Rwi4T1zyICpJzUUW23DEH1i8-NIdkKCxvNiJFgKiuYm1u5pVs3qLEZeqrO7Oxi8G0oKa4w.; __Secure-1PSID=Rwi4T1zyICpJzUUW23DEH1i8-NIdkKCxvNiJFgKiuYm1u5pVoK4jed2TgUFbuaCUpGf_aw.; __Secure-3PSID=Rwi4T1zyICpJzUUW23DEH1i8-NIdkKCxvNiJFgKiuYm1u5pV76GI-dr9fyETbMhBWGJ2ZA.; HSID=AMeWo0kkiey_9_iAH; SSID=AVNAhdr45XcVDBqh2; APISID=S1ZN_iwvd64CYlly/AZ0nrxX9bEpQORVME; SAPISID=wUejbFKfpRmjDlHQ/AsiR72UkRLLnNcBCe; __Secure-1PAPISID=wUejbFKfpRmjDlHQ/AsiR72UkRLLnNcBCe; __Secure-3PAPISID=wUejbFKfpRmjDlHQ/AsiR72UkRLLnNcBCe; PREF=f6=40000080&volume=100&tz=Asia.Calcutta&repeat=NONE&library_tab_browse_id=FEmusic_liked_playlists&f4=4000000&autoplay=true&f5=30000&f7=150; YSC=A3of8peKINo; wide=1; SIDCC=AIKkIs2zUq5BSBLF7XERJHVypMrnuIb7OOyD9mJPGPnE5wK_Qr61N6b7OLXSfO4XLzmccNQQQ8k; __Secure-1PSIDCC=AIKkIs2riKqKDcDbpGiiuYgUVp3m_tkde0qEXwGSnwlGgew41FKHHgsFcNg7V186mZW-tB_MgA; __Secure-3PSIDCC=AIKkIs2E6aWvwsAn7XQy9vtL9fcVQJn4mZTFDowHJDOodYkhlkhyTAp-TpmZ_5iJtl7jFkGREpM'\n",
        "dnt = 'dnt: 1'\n",
        "origin = 'origin: https://music.youtube.com'\n",
        "referer = 'referer: https://music.youtube.com/'\n",
        "sec_ch_ua = 'sec-ch-ua: \"Not?A_Brand\";v=\"8\", \"Chromium\";v=\"108\", \"Google Chrome\";v=\"108\"'\n",
        "sec_ch_ua_arch = 'sec-ch-ua-arch: \"x86\"'\n",
        "sec_ch_ua_bitness = 'sec-ch-ua-bitness: \"64\"'\n",
        "sec_ch_ua_full_version = 'sec-ch-ua-full-version: \"108.0.5359.125\"'\n",
        "sec_ch_ua_full_version_list = 'sec-ch-ua-full-version-list: \"Not?A_Brand\";v=\"8.0.0.0\", \"Chromium\";v=\"108.0.5359.125\", \"Google Chrome\";v=\"108.0.5359.125\"'\n",
        "sec_ch_ua_mobile = 'sec-ch-ua-mobile: ?0'\n",
        "sec_ch_ua_model = 'sec-ch-ua-model'\n",
        "sec_ch_ua_platform = 'sec-ch-ua-platform: \"Windows\"'\n",
        "sec_ch_ua_platform_version = 'sec-ch-ua-platform-version: \"14.0.0\"'\n",
        "sec_ch_ua_wow64 = 'sec-ch-ua-wow64: ?0'\n",
        "sec_fetch_dest = 'sec-fetch-dest: empty'\n",
        "sec_fetch_mode = 'sec-fetch-mode: same-origin'\n",
        "sec_fetch_site = 'sec-fetch-site: same-origin'\n",
        "user_agent = 'user-agent: Mozilla/5.0 (Windows NT 10.0; Win64; x64) AppleWebKit/537.36 (KHTML, like Gecko) Chrome/108.0.0.0 Safari/537.36'\n",
        "x_client_data = 'x-client-data: CJG2yQEIpbbJAQjBtskBCKmdygEInObKAQiVocsBCNLhzAEI3fnMAQjq+swBCLKCzQEI44LNAQjvhM0BCL6FzQEIyYbNAQ== Decoded: message ClientVariations { // Active client experiment variation IDs. repeated int32 variation_id = [3300113, 3300133, 3300161, 3313321, 3322652, 3330197, 3354834, 3357917, 3358058, 3359026, 3359075, 3359343, 3359422, 3359561]; }'\n",
        "x_goog_authuser = 'x-goog-authuser: 2'\n",
        "x_goog_visitor_id = 'x-goog-visitor-id: CgtLcGpxRTBodVRmZyjKzYadBg%3D%3D'\n",
        "x_origin = 'x-origin: https://music.youtube.com'\n",
        "x_youtube_bootstrap_logged_in = 'x-youtube-bootstrap-logged-in: true'\n",
        "x_youtube_client_name = 'x-youtube-client-name: 67'\n",
        "x_youtube_client_version = 'x-youtube-client-version: 1.20221214.01.00'\n",
        "\n",
        "req_headers = (accept, accept_encoding, accept_language, authorization, content_length, content_type, cookie, dnt, origin, referer, \n",
        "               sec_ch_ua, sec_ch_ua_arch, sec_ch_ua_bitness, sec_ch_ua_full_version, sec_ch_ua_full_version_list, sec_ch_ua_mobile, \n",
        "               sec_ch_ua_model, sec_ch_ua_platform, sec_ch_ua_platform_version, sec_ch_ua_wow64, sec_fetch_dest, sec_fetch_mode,\n",
        "               sec_fetch_site, user_agent, x_client_data, x_goog_authuser, x_goog_visitor_id, x_origin, x_youtube_bootstrap_logged_in,\n",
        "               x_youtube_client_name, x_youtube_client_version)"
      ],
      "metadata": {
        "id": "fPzTL_E7h3EY"
      },
      "execution_count": null,
      "outputs": []
    },
    {
      "cell_type": "code",
      "source": [
        "req_header = '\\\\n'.join(req_headers)\n",
        "req2 = (x_goog_authuser,cookie)\n",
        "head2 = '\\\\n'.join(req2)\n",
        "print(req_header)"
      ],
      "metadata": {
        "colab": {
          "base_uri": "https://localhost:8080/"
        },
        "id": "T10y6Azzmh6A",
        "outputId": "dd3741db-a6ce-437c-c979-6d467d0a0fe5"
      },
      "execution_count": null,
      "outputs": [
        {
          "output_type": "stream",
          "name": "stdout",
          "text": [
            "accept: */*\\naccept-encoding: gzip, deflate, br\\naccept-language: en-US,en;q=0.9,ko-KR;q=0.8,ko;q=0.7,es-ES;q=0.6,es;q=0.5,ru-RU;q=0.4,ru;q=0.3,el-GR;q=0.2,el;q=0.1,zh-CN;q=0.1,zh;q=0.1,ja;q=0.1\\nauthorization: SAPISIDHASH 1671538389_b2fe29943a45e830c0861a296305908ee9e7f2cf\\ncontent-length: 2032\\ncontent-type: application/json\\ncookie: VISITOR_INFO1_LIVE=KpjqE0huTfg; YT_CL={\"loctok\":\"APLXd64W07NCcTwGbVPMRfKYoIF3i5F_4QZYwF5hegVneMCCfMpdfGuUI_VbW7bH0gUnjkmO_Rif3BwTAq-uvC79329Lig\"}; _ga=GA1.2.1488817288.1663784678; LOGIN_INFO=AFmmF2swRQIgXN_PYJ8Q0tEGxoFg3z2BZWIR5vVEnRJ8xXyaudo4QcsCIQDechWYiL9l3bBaEeUbAiUKk_iJiVWPIiMvud5fFAqR-w:QUQ3MjNmd25HVW1qdm9SdE0yQjZYWnRNeWxPa0NVRXVTYW91MTJlRlllNUNKWkotYm43TUZDdnBBb2JheTl6bExjUnB3Q19PMkd5QmJtVWlDX19ZekhmbjlyN0ZZV3hYbWtYWm1ESU5HMC1YS3RDblNUdkRiMVZMNUdhY0thQWg1RTlLOVA1V1llVmtocUhneGthdWhPbHJwNVdiWTE5cExB; SID=Rwi4T1zyICpJzUUW23DEH1i8-NIdkKCxvNiJFgKiuYm1u5pVs3qLEZeqrO7Oxi8G0oKa4w.; __Secure-1PSID=Rwi4T1zyICpJzUUW23DEH1i8-NIdkKCxvNiJFgKiuYm1u5pVoK4jed2TgUFbuaCUpGf_aw.; __Secure-3PSID=Rwi4T1zyICpJzUUW23DEH1i8-NIdkKCxvNiJFgKiuYm1u5pV76GI-dr9fyETbMhBWGJ2ZA.; HSID=AMeWo0kkiey_9_iAH; SSID=AVNAhdr45XcVDBqh2; APISID=S1ZN_iwvd64CYlly/AZ0nrxX9bEpQORVME; SAPISID=wUejbFKfpRmjDlHQ/AsiR72UkRLLnNcBCe; __Secure-1PAPISID=wUejbFKfpRmjDlHQ/AsiR72UkRLLnNcBCe; __Secure-3PAPISID=wUejbFKfpRmjDlHQ/AsiR72UkRLLnNcBCe; PREF=f6=40000080&volume=100&tz=Asia.Calcutta&repeat=NONE&library_tab_browse_id=FEmusic_liked_playlists&f4=4000000&autoplay=true&f5=30000&f7=150; YSC=A3of8peKINo; wide=1; SIDCC=AIKkIs2zUq5BSBLF7XERJHVypMrnuIb7OOyD9mJPGPnE5wK_Qr61N6b7OLXSfO4XLzmccNQQQ8k; __Secure-1PSIDCC=AIKkIs2riKqKDcDbpGiiuYgUVp3m_tkde0qEXwGSnwlGgew41FKHHgsFcNg7V186mZW-tB_MgA; __Secure-3PSIDCC=AIKkIs2E6aWvwsAn7XQy9vtL9fcVQJn4mZTFDowHJDOodYkhlkhyTAp-TpmZ_5iJtl7jFkGREpM\\ndnt: 1\\norigin: https://music.youtube.com\\nreferer: https://music.youtube.com/\\nsec-ch-ua: \"Not?A_Brand\";v=\"8\", \"Chromium\";v=\"108\", \"Google Chrome\";v=\"108\"\\nsec-ch-ua-arch: \"x86\"\\nsec-ch-ua-bitness: \"64\"\\nsec-ch-ua-full-version: \"108.0.5359.125\"\\nsec-ch-ua-full-version-list: \"Not?A_Brand\";v=\"8.0.0.0\", \"Chromium\";v=\"108.0.5359.125\", \"Google Chrome\";v=\"108.0.5359.125\"\\nsec-ch-ua-mobile: ?0\\nsec-ch-ua-model\\nsec-ch-ua-platform: \"Windows\"\\nsec-ch-ua-platform-version: \"14.0.0\"\\nsec-ch-ua-wow64: ?0\\nsec-fetch-dest: empty\\nsec-fetch-mode: same-origin\\nsec-fetch-site: same-origin\\nuser-agent: Mozilla/5.0 (Windows NT 10.0; Win64; x64) AppleWebKit/537.36 (KHTML, like Gecko) Chrome/108.0.0.0 Safari/537.36\\nx-client-data: CJG2yQEIpbbJAQjBtskBCKmdygEInObKAQiVocsBCNLhzAEI3fnMAQjq+swBCLKCzQEI44LNAQjvhM0BCL6FzQEIyYbNAQ== Decoded: message ClientVariations { // Active client experiment variation IDs. repeated int32 variation_id = [3300113, 3300133, 3300161, 3313321, 3322652, 3330197, 3354834, 3357917, 3358058, 3359026, 3359075, 3359343, 3359422, 3359561]; }\\nx-goog-authuser: 2\\nx-goog-visitor-id: CgtLcGpxRTBodVRmZyjKzYadBg%3D%3D\\nx-origin: https://music.youtube.com\\nx-youtube-bootstrap-logged-in: true\\nx-youtube-client-name: 67\\nx-youtube-client-version: 1.20221214.01.00\n"
          ]
        }
      ]
    },
    {
      "cell_type": "code",
      "source": [
        "YTMusic.setup(filepath=\"headers_auth.json\", headers_raw=cookie+\"\\n\"+x_goog_authuser)\n"
      ],
      "metadata": {
        "colab": {
          "base_uri": "https://localhost:8080/",
          "height": 244
        },
        "id": "pGx6VpxwqFFZ",
        "outputId": "7f8301a6-e763-45b8-be34-0ceb5b760ca8"
      },
      "execution_count": null,
      "outputs": [
        {
          "output_type": "execute_result",
          "data": {
            "text/plain": [
              "'{\"cookie\": \"VISITOR_INFO1_LIVE=KpjqE0huTfg; YT_CL={\\\\\"loctok\\\\\":\\\\\"APLXd64W07NCcTwGbVPMRfKYoIF3i5F_4QZYwF5hegVneMCCfMpdfGuUI_VbW7bH0gUnjkmO_Rif3BwTAq-uvC79329Lig\\\\\"}; _ga=GA1.2.1488817288.1663784678; LOGIN_INFO=AFmmF2swRQIgXN_PYJ8Q0tEGxoFg3z2BZWIR5vVEnRJ8xXyaudo4QcsCIQDechWYiL9l3bBaEeUbAiUKk_iJiVWPIiMvud5fFAqR-w:QUQ3MjNmd25HVW1qdm9SdE0yQjZYWnRNeWxPa0NVRXVTYW91MTJlRlllNUNKWkotYm43TUZDdnBBb2JheTl6bExjUnB3Q19PMkd5QmJtVWlDX19ZekhmbjlyN0ZZV3hYbWtYWm1ESU5HMC1YS3RDblNUdkRiMVZMNUdhY0thQWg1RTlLOVA1V1llVmtocUhneGthdWhPbHJwNVdiWTE5cExB; SID=Rwi4T1zyICpJzUUW23DEH1i8-NIdkKCxvNiJFgKiuYm1u5pVs3qLEZeqrO7Oxi8G0oKa4w.; __Secure-1PSID=Rwi4T1zyICpJzUUW23DEH1i8-NIdkKCxvNiJFgKiuYm1u5pVoK4jed2TgUFbuaCUpGf_aw.; __Secure-3PSID=Rwi4T1zyICpJzUUW23DEH1i8-NIdkKCxvNiJFgKiuYm1u5pV76GI-dr9fyETbMhBWGJ2ZA.; HSID=AMeWo0kkiey_9_iAH; SSID=AVNAhdr45XcVDBqh2; APISID=S1ZN_iwvd64CYlly/AZ0nrxX9bEpQORVME; SAPISID=wUejbFKfpRmjDlHQ/AsiR72UkRLLnNcBCe; __Secure-1PAPISID=wUejbFKfpRmjDlHQ/AsiR72UkRLLnNcBCe; __Secure-3PAPISID=wUejbFKfpRmjDlHQ/AsiR72UkRLLnNcBCe; PREF=f6=40000080&volume=100&tz=Asia.Calcutta&repeat=NONE&library_tab_browse_id=FEmusic_liked_playlists&f4=4000000&autoplay=true&f5=30000&f7=150; YSC=A3of8peKINo; wide=1; SIDCC=AIKkIs2zUq5BSBLF7XERJHVypMrnuIb7OOyD9mJPGPnE5wK_Qr61N6b7OLXSfO4XLzmccNQQQ8k; __Secure-1PSIDCC=AIKkIs2riKqKDcDbpGiiuYgUVp3m_tkde0qEXwGSnwlGgew41FKHHgsFcNg7V186mZW-tB_MgA; __Secure-3PSIDCC=AIKkIs2E6aWvwsAn7XQy9vtL9fcVQJn4mZTFDowHJDOodYkhlkhyTAp-TpmZ_5iJtl7jFkGREpM\", \"x-goog-authuser\": \"2\", \"user-agent\": \"Mozilla/5.0 (Windows NT 10.0; Win64; x64; rv:88.0) Gecko/20100101 Firefox/88.0\", \"accept\": \"*/*\", \"accept-encoding\": \"gzip, deflate\", \"content-type\": \"application/json\", \"content-encoding\": \"gzip\", \"origin\": \"https://music.youtube.com\"}'"
            ],
            "application/vnd.google.colaboratory.intrinsic+json": {
              "type": "string"
            }
          },
          "metadata": {},
          "execution_count": 67
        }
      ]
    },
    {
      "cell_type": "code",
      "source": [
        "ytmusic = YTMusic('headers_auth.json')"
      ],
      "metadata": {
        "id": "01vrNjR2SsRH"
      },
      "execution_count": null,
      "outputs": []
    },
    {
      "cell_type": "code",
      "source": [
        "playlistId = ytmusic.create_playlist(\"test1\", \"test description\")"
      ],
      "metadata": {
        "id": "faDjthqDiE49"
      },
      "execution_count": null,
      "outputs": []
    },
    {
      "cell_type": "code",
      "source": [
        "search_results = ytmusic.search(query='Jackson Wang', filter='songs')\n",
        "len(search_results)"
      ],
      "metadata": {
        "colab": {
          "base_uri": "https://localhost:8080/"
        },
        "id": "tM__PYLHzWL6",
        "outputId": "6fe4c3ab-39a7-4f2c-c49c-58115fa55604"
      },
      "execution_count": null,
      "outputs": [
        {
          "output_type": "execute_result",
          "data": {
            "text/plain": [
              "20"
            ]
          },
          "metadata": {},
          "execution_count": 84
        }
      ]
    },
    {
      "cell_type": "code",
      "source": [
        "import random"
      ],
      "metadata": {
        "id": "LTR32oXx2cqE"
      },
      "execution_count": null,
      "outputs": []
    },
    {
      "cell_type": "code",
      "source": [
        "def pick_songs(search_results, n=2):\n",
        "  video_ids = set()\n",
        "  index_list = list(range(0,len(search_results)))\n",
        "  if n <= len(search_results):\n",
        "    for i in range(0,n):\n",
        "      index = random.choice(index_list)\n",
        "      video_ids.add(search_results[index]['videoId'])\n",
        "      index_list.remove(index)\n",
        "# generate a list containing numbers from 0 to len search results\n",
        "# choose a random element from the list\n",
        "# add it to the video_ids list\n",
        "# delete that element from the index list\n",
        "  return list(video_ids)\n",
        "    "
      ],
      "metadata": {
        "id": "EU-C5xj21xL9"
      },
      "execution_count": null,
      "outputs": []
    },
    {
      "cell_type": "code",
      "source": [
        "def make_playlist(artists, n=10, playlist_name = 'new mix', playlist_des = ''):\n",
        "  video_ids = set()\n",
        "  num = n//len(artists)\n",
        "  for artist in artists:\n",
        "    search_results = ytmusic.search(query=artist, filter='songs')\n",
        "    vid_id = pick_songs(search_results, num)\n",
        "    for id in vid_id:\n",
        "      video_ids.add(id)\n",
        "  playlist = ytmusic.create_playlist(playlist_name, playlist_des)   \n",
        "  playlist = ytmusic.add_playlist_items(playlist, list(video_ids))\n",
        "  return playlist"
      ],
      "metadata": {
        "id": "tiOnX5rz4uoI"
      },
      "execution_count": null,
      "outputs": []
    },
    {
      "cell_type": "code",
      "source": [
        "artists = {'Jackson Wang', 'The Neighborhood', 'Glass Animals'}"
      ],
      "metadata": {
        "id": "YQmIzQAc24ZQ"
      },
      "execution_count": null,
      "outputs": []
    },
    {
      "cell_type": "code",
      "source": [
        "make_playlist(artists, 20)"
      ],
      "metadata": {
        "colab": {
          "base_uri": "https://localhost:8080/"
        },
        "id": "hQ0tpPZe6AxM",
        "outputId": "00ac37a5-271a-4c18-eb01-26f1dbc3eb51"
      },
      "execution_count": null,
      "outputs": [
        {
          "output_type": "execute_result",
          "data": {
            "text/plain": [
              "{'status': 'STATUS_SUCCEEDED',\n",
              " 'playlistEditResults': [{'videoId': 'TgnAn_OVQtA',\n",
              "   'setVideoId': '56B44F6D10557CC6',\n",
              "   'multiSelectData': {'multiSelectParams': 'CAESIlBMbHhHMTd0aGdBVVdEMFlIaGkzX2NtZk0zSU5tSW1QVXE=',\n",
              "    'multiSelectItem': 'Ch8KC1RnbkFuX09WUXRBEhA1NkI0NEY2RDEwNTU3Q0M2'}},\n",
              "  {'videoId': 'yyAeebaU6E8',\n",
              "   'setVideoId': '289F4A46DF0A30D2',\n",
              "   'multiSelectData': {'multiSelectParams': 'CAESIlBMbHhHMTd0aGdBVVdEMFlIaGkzX2NtZk0zSU5tSW1QVXE=',\n",
              "    'multiSelectItem': 'Ch8KC3l5QWVlYmFVNkU4EhAyODlGNEE0NkRGMEEzMEQy'}},\n",
              "  {'videoId': '4VgzrNU06TM',\n",
              "   'setVideoId': '017208FAA85233F9',\n",
              "   'multiSelectData': {'multiSelectParams': 'CAESIlBMbHhHMTd0aGdBVVdEMFlIaGkzX2NtZk0zSU5tSW1QVXE=',\n",
              "    'multiSelectItem': 'Ch8KCzRWZ3pyTlUwNlRNEhAwMTcyMDhGQUE4NTIzM0Y5'}},\n",
              "  {'videoId': 'AOwyd6l8KvM',\n",
              "   'setVideoId': '52152B4946C2F73F',\n",
              "   'multiSelectData': {'multiSelectParams': 'CAESIlBMbHhHMTd0aGdBVVdEMFlIaGkzX2NtZk0zSU5tSW1QVXE=',\n",
              "    'multiSelectItem': 'Ch8KC0FPd3lkNmw4S3ZNEhA1MjE1MkI0OTQ2QzJGNzNG'}},\n",
              "  {'videoId': 'g9MPTnQuXm0',\n",
              "   'setVideoId': '090796A75D153932',\n",
              "   'multiSelectData': {'multiSelectParams': 'CAESIlBMbHhHMTd0aGdBVVdEMFlIaGkzX2NtZk0zSU5tSW1QVXE=',\n",
              "    'multiSelectItem': 'Ch8KC2c5TVBUblF1WG0wEhAwOTA3OTZBNzVEMTUzOTMy'}},\n",
              "  {'videoId': 'Xlo1xNtEFbk',\n",
              "   'setVideoId': '12EFB3B1C57DE4E1',\n",
              "   'multiSelectData': {'multiSelectParams': 'CAESIlBMbHhHMTd0aGdBVVdEMFlIaGkzX2NtZk0zSU5tSW1QVXE=',\n",
              "    'multiSelectItem': 'Ch8KC1hsbzF4TnRFRmJrEhAxMkVGQjNCMUM1N0RFNEUx'}},\n",
              "  {'videoId': 'LU64mZmD3qo',\n",
              "   'setVideoId': '532BB0B422FBC7EC',\n",
              "   'multiSelectData': {'multiSelectParams': 'CAESIlBMbHhHMTd0aGdBVVdEMFlIaGkzX2NtZk0zSU5tSW1QVXE=',\n",
              "    'multiSelectItem': 'Ch8KC0xVNjRtWm1EM3FvEhA1MzJCQjBCNDIyRkJDN0VD'}},\n",
              "  {'videoId': 'sZtkXn_-Kws',\n",
              "   'setVideoId': 'CACDD466B3ED1565',\n",
              "   'multiSelectData': {'multiSelectParams': 'CAESIlBMbHhHMTd0aGdBVVdEMFlIaGkzX2NtZk0zSU5tSW1QVXE=',\n",
              "    'multiSelectItem': 'Ch8KC3NadGtYbl8tS3dzEhBDQUNERDQ2NkIzRUQxNTY1'}},\n",
              "  {'videoId': 'L1LIO8RcoeU',\n",
              "   'setVideoId': '9495DFD78D359043',\n",
              "   'multiSelectData': {'multiSelectParams': 'CAESIlBMbHhHMTd0aGdBVVdEMFlIaGkzX2NtZk0zSU5tSW1QVXE=',\n",
              "    'multiSelectItem': 'Ch8KC0wxTElPOFJjb2VVEhA5NDk1REZENzhEMzU5MDQz'}},\n",
              "  {'videoId': 'xCvBU23Ahos',\n",
              "   'setVideoId': 'F63CD4D04198B046',\n",
              "   'multiSelectData': {'multiSelectParams': 'CAESIlBMbHhHMTd0aGdBVVdEMFlIaGkzX2NtZk0zSU5tSW1QVXE=',\n",
              "    'multiSelectItem': 'Ch8KC3hDdkJVMjNBaG9zEhBGNjNDRDREMDQxOThCMDQ2'}},\n",
              "  {'videoId': 'QJXyBGYUI9o',\n",
              "   'setVideoId': '476B0DC25D7DEE8A',\n",
              "   'multiSelectData': {'multiSelectParams': 'CAESIlBMbHhHMTd0aGdBVVdEMFlIaGkzX2NtZk0zSU5tSW1QVXE=',\n",
              "    'multiSelectItem': 'Ch8KC1FKWHlCR1lVSTlvEhA0NzZCMERDMjVEN0RFRThB'}},\n",
              "  {'videoId': 'oRPjozOyofk',\n",
              "   'setVideoId': 'D0A0EF93DCE5742B',\n",
              "   'multiSelectData': {'multiSelectParams': 'CAESIlBMbHhHMTd0aGdBVVdEMFlIaGkzX2NtZk0zSU5tSW1QVXE=',\n",
              "    'multiSelectItem': 'Ch8KC29SUGpvek95b2ZrEhBEMEEwRUY5M0RDRTU3NDJC'}},\n",
              "  {'videoId': 'l1GGTf1Bf8w',\n",
              "   'setVideoId': '984C584B086AA6D2',\n",
              "   'multiSelectData': {'multiSelectParams': 'CAESIlBMbHhHMTd0aGdBVVdEMFlIaGkzX2NtZk0zSU5tSW1QVXE=',\n",
              "    'multiSelectItem': 'Ch8KC2wxR0dUZjFCZjh3EhA5ODRDNTg0QjA4NkFBNkQy'}},\n",
              "  {'videoId': 'dOvUhn3IQbM',\n",
              "   'setVideoId': '30892D90EC0C5586',\n",
              "   'multiSelectData': {'multiSelectParams': 'CAESIlBMbHhHMTd0aGdBVVdEMFlIaGkzX2NtZk0zSU5tSW1QVXE=',\n",
              "    'multiSelectItem': 'Ch8KC2RPdlVobjNJUWJNEhAzMDg5MkQ5MEVDMEM1NTg2'}},\n",
              "  {'videoId': 'wEK1rcZPYJo',\n",
              "   'setVideoId': '5396A0119349808E',\n",
              "   'multiSelectData': {'multiSelectParams': 'CAESIlBMbHhHMTd0aGdBVVdEMFlIaGkzX2NtZk0zSU5tSW1QVXE=',\n",
              "    'multiSelectItem': 'Ch8KC3dFSzFyY1pQWUpvEhA1Mzk2QTAxMTkzNDk4MDhF'}},\n",
              "  {'videoId': '91dSBuq3QcQ',\n",
              "   'setVideoId': 'DAA551CF700844C3',\n",
              "   'multiSelectData': {'multiSelectParams': 'CAESIlBMbHhHMTd0aGdBVVdEMFlIaGkzX2NtZk0zSU5tSW1QVXE=',\n",
              "    'multiSelectItem': 'Ch8KCzkxZFNCdXEzUWNREhBEQUE1NTFDRjcwMDg0NEMz'}},\n",
              "  {'videoId': 'wGsYHSBbVV4',\n",
              "   'setVideoId': '5A65CE115B87358D',\n",
              "   'multiSelectData': {'multiSelectParams': 'CAESIlBMbHhHMTd0aGdBVVdEMFlIaGkzX2NtZk0zSU5tSW1QVXE=',\n",
              "    'multiSelectItem': 'Ch8KC3dHc1lIU0JiVlY0EhA1QTY1Q0UxMTVCODczNThE'}},\n",
              "  {'videoId': 'LIHXjDJI6qs',\n",
              "   'setVideoId': '21D2A4324C732A32',\n",
              "   'multiSelectData': {'multiSelectParams': 'CAESIlBMbHhHMTd0aGdBVVdEMFlIaGkzX2NtZk0zSU5tSW1QVXE=',\n",
              "    'multiSelectItem': 'Ch8KC0xJSFhqREpJNnFzEhAyMUQyQTQzMjRDNzMyQTMy'}}]}"
            ]
          },
          "metadata": {},
          "execution_count": 144
        }
      ]
    }
  ]
}